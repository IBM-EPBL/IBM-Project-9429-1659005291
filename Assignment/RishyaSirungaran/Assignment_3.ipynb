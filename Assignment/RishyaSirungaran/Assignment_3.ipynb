{
 "cells": [
  {
   "cell_type": "markdown",
   "metadata": {},
   "source": [
    "1. Dataset has been Downloaded and saved"
   ]
  },
  {
   "cell_type": "markdown",
   "metadata": {},
   "source": [
    "2. Image Augmentation"
   ]
  },
  {
   "cell_type": "code",
   "execution_count": 2,
   "metadata": {},
   "outputs": [],
   "source": [
    "from keras.utils import load_img, img_to_array\n",
    "from keras.preprocessing.image import ImageDataGenerator, image_utils\n",
    "from keras.models import Sequential\n",
    "from keras.layers import Convolution2D, MaxPooling2D, Flatten, Dense, Dropout\n",
    "import numpy as np"
   ]
  },
  {
   "cell_type": "markdown",
   "metadata": {},
   "source": [
    "2.1 Augmenting the Train Variables"
   ]
  },
  {
   "cell_type": "code",
   "execution_count": 3,
   "metadata": {},
   "outputs": [],
   "source": [
    "train_datagen = ImageDataGenerator(\n",
    "    rotation_range = 40,\n",
    "    shear_range = 0.2,\n",
    "    zoom_range = 0.2,\n",
    "    horizontal_flip = True,\n",
    "    brightness_range = (0.5, 1.5)\n",
    ")"
   ]
  },
  {
   "cell_type": "markdown",
   "metadata": {},
   "source": [
    "2.2 Augmenting the Test variables"
   ]
  },
  {
   "cell_type": "code",
   "execution_count": 4,
   "metadata": {},
   "outputs": [],
   "source": [
    "test_datagen = ImageDataGenerator(rescale= 1./255)"
   ]
  },
  {
   "cell_type": "code",
   "execution_count": 5,
   "metadata": {},
   "outputs": [
    {
     "name": "stdout",
     "output_type": "stream",
     "text": [
      "Found 500 images belonging to 5 classes.\n"
     ]
    }
   ],
   "source": [
    "ftrain = train_datagen.flow_from_directory(\n",
    "    './flowers/train/',\n",
    "    target_size = (64,64),\n",
    "    class_mode = 'categorical',\n",
    "    batch_size = 100\n",
    ")"
   ]
  },
  {
   "cell_type": "code",
   "execution_count": 6,
   "metadata": {},
   "outputs": [
    {
     "name": "stdout",
     "output_type": "stream",
     "text": [
      "Found 500 images belonging to 5 classes.\n"
     ]
    }
   ],
   "source": [
    "ftest = test_datagen.flow_from_directory(\n",
    "    './flowers/test/',\n",
    "    target_size = (64,64),\n",
    "    class_mode = 'categorical',\n",
    "    batch_size = 100\n",
    ")"
   ]
  },
  {
   "cell_type": "markdown",
   "metadata": {},
   "source": [
    "3. Creating the Model"
   ]
  },
  {
   "cell_type": "code",
   "execution_count": 7,
   "metadata": {},
   "outputs": [],
   "source": [
    "model = Sequential()"
   ]
  },
  {
   "cell_type": "markdown",
   "metadata": {},
   "source": [
    "4. Adding Layers (Convolution Layers, MaxPooling, Flatten, Dense)"
   ]
  },
  {
   "cell_type": "code",
   "execution_count": 8,
   "metadata": {},
   "outputs": [],
   "source": [
    "model.add(Convolution2D(32, (3,3), activation = 'relu', input_shape = (64, 64, 3)))\n",
    "model.add(MaxPooling2D(pool_size= (2,2)))\n",
    "model.add(Flatten())\n",
    "model.add(Dropout(0.25))\n",
    "model.add(Dense(400, activation = 'relu'))\n",
    "model.add(Dropout(0.25))\n",
    "model.add(Dense(200, activation = 'relu'))\n",
    "model.add(Dropout(0.25))\n",
    "model.add(Dense(5, activation = 'softmax'))"
   ]
  },
  {
   "cell_type": "markdown",
   "metadata": {},
   "source": [
    "5. Compiling the Model"
   ]
  },
  {
   "cell_type": "code",
   "execution_count": 9,
   "metadata": {},
   "outputs": [],
   "source": [
    "model.compile(\n",
    "    optimizer='adam',\n",
    "    loss='categorical_crossentropy',\n",
    "    metrics=['accuracy']\n",
    ")"
   ]
  },
  {
   "cell_type": "markdown",
   "metadata": {},
   "source": [
    "6. Fitting the model"
   ]
  },
  {
   "cell_type": "code",
   "execution_count": 10,
   "metadata": {},
   "outputs": [
    {
     "name": "stdout",
     "output_type": "stream",
     "text": [
      "Epoch 1/10\n",
      "5/5 [==============================] - 21s 4s/step - loss: 541.2352 - accuracy: 0.2200 - val_loss: 2.3822 - val_accuracy: 0.3020\n",
      "Epoch 2/10\n",
      "5/5 [==============================] - 12s 2s/step - loss: 320.7556 - accuracy: 0.2200 - val_loss: 1.5840 - val_accuracy: 0.2580\n",
      "Epoch 3/10\n",
      "5/5 [==============================] - 12s 2s/step - loss: 147.2445 - accuracy: 0.2580 - val_loss: 1.5154 - val_accuracy: 0.3340\n",
      "Epoch 4/10\n",
      "5/5 [==============================] - 14s 3s/step - loss: 73.5443 - accuracy: 0.3060 - val_loss: 1.5146 - val_accuracy: 0.4560\n",
      "Epoch 5/10\n",
      "5/5 [==============================] - 12s 2s/step - loss: 34.7399 - accuracy: 0.3520 - val_loss: 1.5398 - val_accuracy: 0.4280\n",
      "Epoch 6/10\n",
      "5/5 [==============================] - 12s 2s/step - loss: 24.2868 - accuracy: 0.3500 - val_loss: 1.5582 - val_accuracy: 0.4560\n",
      "Epoch 7/10\n",
      "5/5 [==============================] - 12s 2s/step - loss: 16.7078 - accuracy: 0.2820 - val_loss: 1.5648 - val_accuracy: 0.4180\n",
      "Epoch 8/10\n",
      "5/5 [==============================] - 12s 2s/step - loss: 9.7108 - accuracy: 0.3480 - val_loss: 1.5710 - val_accuracy: 0.4660\n",
      "Epoch 9/10\n",
      "5/5 [==============================] - 13s 3s/step - loss: 7.3766 - accuracy: 0.3700 - val_loss: 1.5834 - val_accuracy: 0.4340\n",
      "Epoch 10/10\n",
      "5/5 [==============================] - 12s 2s/step - loss: 4.2423 - accuracy: 0.3920 - val_loss: 1.5933 - val_accuracy: 0.3580\n"
     ]
    },
    {
     "data": {
      "text/plain": [
       "<keras.callbacks.History at 0x2309c0fe9e0>"
      ]
     },
     "execution_count": 10,
     "metadata": {},
     "output_type": "execute_result"
    }
   ],
   "source": [
    "model.fit(\n",
    "    ftrain,\n",
    "    steps_per_epoch = len(ftrain),\n",
    "    epochs = 10,\n",
    "    validation_data = ftest,\n",
    "    validation_steps = len(ftest)\n",
    ")"
   ]
  },
  {
   "cell_type": "markdown",
   "metadata": {},
   "source": [
    "7. Saving the model"
   ]
  },
  {
   "cell_type": "code",
   "execution_count": 11,
   "metadata": {},
   "outputs": [],
   "source": [
    "model.save('./flowers.h5')"
   ]
  },
  {
   "cell_type": "markdown",
   "metadata": {},
   "source": [
    "8. Testing the model"
   ]
  },
  {
   "cell_type": "markdown",
   "metadata": {},
   "source": [
    "8.1 Test 1"
   ]
  },
  {
   "cell_type": "code",
   "execution_count": 12,
   "metadata": {},
   "outputs": [
    {
     "name": "stdout",
     "output_type": "stream",
     "text": [
      "1/1 [==============================] - 0s 184ms/step\n"
     ]
    },
    {
     "data": {
      "text/plain": [
       "'daisy'"
      ]
     },
     "execution_count": 12,
     "metadata": {},
     "output_type": "execute_result"
    }
   ],
   "source": [
    "img = image_utils.load_img(\n",
    "    './flowers/test/daisy/1150395827_6f94a5c6e4_n.jpg',\n",
    "    target_size = (64,64)\n",
    ")\n",
    "f = image_utils.img_to_array(img)\n",
    "f = np.expand_dims(f, axis = 0)\n",
    "pred = np.argmax(model.predict(f))\n",
    "op = ['daisy', 'dandelion', 'rose', 'sunflower', 'tulip']\n",
    "op[pred]"
   ]
  },
  {
   "cell_type": "markdown",
   "metadata": {},
   "source": [
    "8.2 Test 2"
   ]
  },
  {
   "cell_type": "code",
   "execution_count": 14,
   "metadata": {},
   "outputs": [
    {
     "name": "stdout",
     "output_type": "stream",
     "text": [
      "1/1 [==============================] - 0s 40ms/step\n"
     ]
    },
    {
     "data": {
      "text/plain": [
       "'tulip'"
      ]
     },
     "execution_count": 14,
     "metadata": {},
     "output_type": "execute_result"
    }
   ],
   "source": [
    "img = image_utils.load_img(\n",
    "    './flowers/test/dandelion/7355522_b66e5d3078_m.jpg',\n",
    "    target_size = (64,64)\n",
    ")\n",
    "f = image_utils.img_to_array(img)\n",
    "f = np.expand_dims(f, axis = 0)\n",
    "pred = np.argmax(model.predict(f))\n",
    "op = ['daisy', 'dandelion', 'rose', 'sunflower', 'tulip']\n",
    "op[pred]"
   ]
  },
  {
   "cell_type": "markdown",
   "metadata": {},
   "source": [
    "Conclusion: In both the above test cases the model has been passed"
   ]
  }
 ],
 "metadata": {
  "kernelspec": {
   "display_name": "Python 3.10.5 64-bit",
   "language": "python",
   "name": "python3"
  },
  "language_info": {
   "codemirror_mode": {
    "name": "ipython",
    "version": 3
   },
   "file_extension": ".py",
   "mimetype": "text/x-python",
   "name": "python",
   "nbconvert_exporter": "python",
   "pygments_lexer": "ipython3",
   "version": "3.10.5"
  },
  "orig_nbformat": 4,
  "vscode": {
   "interpreter": {
    "hash": "04f7164ea6b50d702c89ca275688ea33f89ffe58ce6a8dcb8aad1870e23e88d7"
   }
  }
 },
 "nbformat": 4,
 "nbformat_minor": 2
}
