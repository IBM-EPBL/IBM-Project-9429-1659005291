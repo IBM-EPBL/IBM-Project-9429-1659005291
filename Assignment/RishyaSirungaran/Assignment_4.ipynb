{
  "cells": [
    {
      "cell_type": "markdown",
      "metadata": {
        "id": "y13koDYJt4WL"
      },
      "source": [
        "**Dataset has been downloaded and saved**"
      ]
    },
    {
      "cell_type": "markdown",
      "metadata": {
        "id": "0Q0iwf-Ut4WX"
      },
      "source": [
        "**Import required Libraries**"
      ]
    },
    {
      "cell_type": "code",
      "execution_count": 2,
      "metadata": {
        "id": "TNIsWd7Tt4WZ"
      },
      "outputs": [],
      "source": [
        "import pandas as pd\n",
        "import seaborn as sns\n",
        "from sklearn.model_selection import train_test_split\n",
        "from sklearn.preprocessing import LabelEncoder\n",
        "from keras.models import Model\n",
        "from keras.layers import LSTM, Activation, Dense, Dropout, Input, Embedding\n",
        "from keras.optimizers import RMSprop\n",
        "from keras.preprocessing.text import Tokenizer\n",
        "from keras.preprocessing import sequence\n",
        "from keras.utils import pad_sequences\n",
        "from keras.utils import to_categorical\n",
        "from keras.callbacks import EarlyStopping"
      ]
    },
    {
      "cell_type": "markdown",
      "metadata": {
        "id": "vs-bC3nzt4We"
      },
      "source": [
        "**Read dataset and do preprocessing**"
      ]
    },
    {
      "cell_type": "code",
      "execution_count": 4,
      "metadata": {
        "id": "rLxx5NLxt4Wg"
      },
      "outputs": [],
      "source": [
        "df = pd.read_csv(\n",
        "    'C:/Users/DOSS/OneDrive/Documents/IBM-Project-45061-1660728082-1/Assignments/Dataset/spam.csv',\n",
        "    delimiter = ',',\n",
        "    encoding = 'latin-1'\n",
        ")"
      ]
    },
    {
      "cell_type": "code",
      "execution_count": 5,
      "metadata": {
        "id": "BR-K6ItYt4Wh"
      },
      "outputs": [],
      "source": [
        "df.drop(\n",
        "    ['Unnamed: 2', 'Unnamed: 3', 'Unnamed: 4'],\n",
        "    axis = 1,\n",
        "    inplace = True\n",
        ")"
      ]
    },
    {
      "cell_type": "code",
      "execution_count": 6,
      "metadata": {
        "id": "jVU5RsKBt4Wj"
      },
      "outputs": [],
      "source": [
        "X = df.v2\n",
        "Y = df.v1\n",
        "le = LabelEncoder()\n",
        "Y = le.fit_transform(Y)\n",
        "Y = Y.reshape(-1, 1)"
      ]
    },
    {
      "cell_type": "code",
      "execution_count": 7,
      "metadata": {
        "id": "d37uNpRit4Wl"
      },
      "outputs": [],
      "source": [
        "X_train, X_test, Y_train, Y_test = train_test_split(\n",
        "    X,\n",
        "    Y,\n",
        "    test_size = 0.15\n",
        ")"
      ]
    },
    {
      "cell_type": "code",
      "execution_count": 8,
      "metadata": {
        "id": "kl6J2Jq5t4Wn"
      },
      "outputs": [],
      "source": [
        "max_words = 1000\n",
        "max_len = 150\n",
        "tok = Tokenizer(num_words = max_words)\n",
        "tok.fit_on_texts(X_train)\n",
        "sequences = tok.texts_to_sequences(X_train)\n",
        "sequences_matrix = pad_sequences(sequences, maxlen = max_len)"
      ]
    },
    {
      "cell_type": "markdown",
      "metadata": {
        "id": "hmdn1iWMt4Wt"
      },
      "source": [
        "**Add Layers (LSTM, Dense-(Hidden Layers), Output)**"
      ]
    },
    {
      "cell_type": "code",
      "execution_count": 9,
      "metadata": {
        "id": "W7Fv-Ujst4Wu"
      },
      "outputs": [],
      "source": [
        "def RNN():\n",
        "    inputs = Input(name = 'inputs', shape = [max_len])\n",
        "    layer = Embedding(max_words, 50, input_length = max_len)(inputs)\n",
        "    layer = LSTM(64)(layer)\n",
        "    layer = Dense(256,name = 'FC1')(layer)\n",
        "    layer = Activation('relu')(layer)\n",
        "    layer = Dropout(0.5)(layer)\n",
        "    layer = Dense(1,name = 'out_layer')(layer)\n",
        "    layer = Activation('sigmoid')(layer)\n",
        "    model = Model(inputs = inputs, outputs = layer)\n",
        "    return model"
      ]
    },
    {
      "cell_type": "markdown",
      "metadata": {
        "id": "U0zKLigJt4Ww"
      },
      "source": [
        "**Create Model**"
      ]
    },
    {
      "cell_type": "code",
      "execution_count": 10,
      "metadata": {
        "id": "sbenMfAot4Wx"
      },
      "outputs": [],
      "source": [
        "model = RNN()"
      ]
    },
    {
      "cell_type": "markdown",
      "metadata": {
        "id": "T7h7LKEpt4Wy"
      },
      "source": [
        "**Compile the model**"
      ]
    },
    {
      "cell_type": "code",
      "execution_count": 11,
      "metadata": {
        "id": "KjN0542Mt4Wz"
      },
      "outputs": [],
      "source": [
        "model.compile(loss = 'binary_crossentropy', optimizer = RMSprop(), metrics = ['accuracy'])"
      ]
    },
    {
      "cell_type": "markdown",
      "metadata": {
        "id": "Ca6WCpUEt4W0"
      },
      "source": [
        "**Fit the model**"
      ]
    },
    {
      "cell_type": "code",
      "execution_count": 12,
      "metadata": {
        "colab": {
          "base_uri": "https://localhost:8080/"
        },
        "id": "n2xN8Must4W1",
        "outputId": "de88d754-496d-4129-e346-c4e2bc58764c"
      },
      "outputs": [
        {
          "name": "stdout",
          "output_type": "stream",
          "text": [
            "Epoch 1/10\n",
            "30/30 [==============================] - 33s 898ms/step - loss: 0.3399 - accuracy: 0.8677 - val_loss: 0.1349 - val_accuracy: 0.9515\n",
            "Epoch 2/10\n",
            "30/30 [==============================] - 36s 1s/step - loss: 0.0910 - accuracy: 0.9762 - val_loss: 0.0392 - val_accuracy: 0.9895\n"
          ]
        },
        {
          "data": {
            "text/plain": [
              "<keras.callbacks.History at 0x2e816593520>"
            ]
          },
          "execution_count": 12,
          "metadata": {},
          "output_type": "execute_result"
        }
      ],
      "source": [
        "model.fit(\n",
        "    sequences_matrix,\n",
        "    Y_train,\n",
        "    batch_size = 128,\n",
        "    epochs=10,\n",
        "    validation_split = 0.2,\n",
        "    callbacks=[EarlyStopping(monitor = 'val_loss', min_delta = 0.0001)])"
      ]
    },
    {
      "cell_type": "markdown",
      "metadata": {
        "id": "gncsJhF4t4W2"
      },
      "source": [
        "**Save the model**"
      ]
    },
    {
      "cell_type": "code",
      "execution_count": 15,
      "metadata": {
        "id": "7cCzF_h3t4W3"
      },
      "outputs": [],
      "source": [
        "model.save('../Arun Kumar/spam.h5')"
      ]
    },
    {
      "cell_type": "markdown",
      "metadata": {
        "id": "xH28OmL1t4W4"
      },
      "source": [
        "**Test the model**"
      ]
    },
    {
      "cell_type": "code",
      "execution_count": 16,
      "metadata": {
        "id": "16Q5oT0Zt4W6"
      },
      "outputs": [],
      "source": [
        "test_sequences = tok.texts_to_sequences(X_test)\n",
        "test_sequences_matrix = pad_sequences(test_sequences, maxlen = max_len)"
      ]
    },
    {
      "cell_type": "code",
      "execution_count": 17,
      "metadata": {
        "colab": {
          "base_uri": "https://localhost:8080/"
        },
        "id": "918a0wN-t4W7",
        "outputId": "32a0274f-2284-4919-b518-0f1148cfc55d"
      },
      "outputs": [
        {
          "name": "stdout",
          "output_type": "stream",
          "text": [
            "27/27 [==============================] - 2s 58ms/step - loss: 0.0493 - accuracy: 0.9868\n"
          ]
        }
      ],
      "source": [
        "accr = model.evaluate(test_sequences_matrix, Y_test)"
      ]
    },
    {
      "cell_type": "code",
      "execution_count": 18,
      "metadata": {
        "colab": {
          "base_uri": "https://localhost:8080/"
        },
        "id": "kh6ZEFZRt4W8",
        "outputId": "5572eed3-6f5c-4ba8-fd34-8c15056455d0"
      },
      "outputs": [
        {
          "name": "stdout",
          "output_type": "stream",
          "text": [
            "Test set\n",
            "  Loss: 0.049\n",
            "  Accuracy: 0.987\n"
          ]
        }
      ],
      "source": [
        "print('Test set\\n  Loss: {:0.3f}\\n  Accuracy: {:0.3f}'.format(accr[0],accr[1]))"
      ]
    }
  ],
  "metadata": {
    "colab": {
      "collapsed_sections": [],
      "provenance": []
    },
    "kernelspec": {
      "display_name": "Python 3.10.5 64-bit",
      "language": "python",
      "name": "python3"
    },
    "language_info": {
      "codemirror_mode": {
        "name": "ipython",
        "version": 3
      },
      "file_extension": ".py",
      "mimetype": "text/x-python",
      "name": "python",
      "nbconvert_exporter": "python",
      "pygments_lexer": "ipython3",
      "version": "3.10.5"
    },
    "orig_nbformat": 4,
    "vscode": {
      "interpreter": {
        "hash": "04f7164ea6b50d702c89ca275688ea33f89ffe58ce6a8dcb8aad1870e23e88d7"
      }
    }
  },
  "nbformat": 4,
  "nbformat_minor": 0
}
